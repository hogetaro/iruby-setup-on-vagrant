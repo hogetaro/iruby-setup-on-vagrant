{
 "cells": [
  {
   "cell_type": "code",
   "execution_count": null,
   "metadata": {
    "collapsed": true
   },
   "outputs": [],
   "source": [
    "a = (1..10).to_scale\n",
    "aa"
   ]
  }
 ],
 "metadata": {
  "kernelspec": {
   "display_name": "Ruby 2.2.5",
   "language": "ruby",
   "name": "ruby"
  }
 },
 "nbformat": 4,
 "nbformat_minor": 0
}
