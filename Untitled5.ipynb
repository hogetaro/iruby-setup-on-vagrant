{
 "cells": [
  {
   "cell_type": "code",
   "execution_count": null,
   "metadata": {
    "collapsed": true
   },
   "outputs": [],
   "source": []
  }
 ],
 "metadata": {
  "kernelspec": {
   "display_name": "Ruby 2.2.5",
   "language": "ruby",
   "name": "ruby"
  }
 },
 "nbformat": 4,
 "nbformat_minor": 0
}
